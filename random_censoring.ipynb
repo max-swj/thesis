{
 "cells": [
  {
   "cell_type": "markdown",
   "source": [
    "# Exact Computation of Quantile Regression under Random Censoring\n"
   ],
   "metadata": {
    "collapsed": false
   }
  },
  {
   "cell_type": "markdown",
   "source": [
    "The estimator defined in (2.15) is\n",
    "$$\n",
    "\\hat{\\beta} \\equiv \\arg \\min _{\\beta \\in \\mathscr{B}} R_n(\\beta ; \\hat{S}),\n",
    "$$\n",
    "where\n",
    "\\begin{align*}\n",
    "R_n(\\beta ; \\hat{S}) \\equiv & \\frac{1}{n} \\sum_{i=1}^n \\left\\{ \\left(1-d_i\\right) \\rho_\\pi\\left(y_i-\\min \\left\\{x_i^{\\prime} \\beta, y_i\\right\\}\\right)\\right.\\\\\n",
    "&\\left.+d_i\\left[\\hat{S}\\left(y_i\\right)\\right]^{-1} \\int 1\\left\\{y_i<c\\right\\} \\rho_\\pi\\left(y_i-\\min \\left\\{x_i^{\\prime} \\beta, c\\right\\}\\right) \\mathrm{d} \\hat{G}(c)\\right\\}\n",
    "\\end{align*}\n"
   ],
   "metadata": {
    "collapsed": false
   }
  },
  {
   "cell_type": "markdown",
   "source": [
    "We can write $\\phi_i = \\min\\left\\{ x'_i\\beta, y_i \\right\\}$ as\n",
    "\n",
    "\\begin{align}\n",
    "&\\phi_i \\le x'_i\\beta\\\\\n",
    "&\\phi_i \\le y_i\\\\\n",
    "&\\phi_i + \\gamma_i \\cdot w_i \\ge x'_i\\beta \\\\\n",
    "&\\phi_i + (1-\\gamma_i) \\cdot w_i\\ge y_i\\\\\n",
    "&\\gamma_i \\in \\left\\{ 0, 1 \\right\\}\\\\\n",
    "&i = 1, ..., n.\n",
    "\\end{align}\n",
    "\n",
    "Similarly, we write $\\phi'_i = \\min\\left\\{ x'_i\\beta, c \\right\\}$ as\n",
    "\n",
    "\\begin{align}\n",
    "&\\phi'_i \\le x'_i\\beta\\\\\n",
    "&\\phi'_i \\le c\\\\\n",
    "&\\phi'_i + \\delta_i \\cdot w_i\\ge x'_i\\beta \\\\\n",
    "&\\phi'_i + (1-\\delta_i) \\cdot w_i\\ge c \\\\\n",
    "&\\delta_i \\in \\left\\{ 0, 1 \\right\\}\\\\\n",
    "&i = 1, ..., n.\n",
    "\\end{align}\n"
   ],
   "metadata": {
    "collapsed": false
   }
  },
  {
   "cell_type": "markdown",
   "source": [
    "The check function $\\rho_\\tau(z) = (\\tau-1(z \\le 0))z = 1(z > 0)\\cdot \\tau\\left| z \\right| + 1(z \\le 0) \\cdot (1-\\tau) \\left| z \\right|$.\n",
    "\n",
    "We will use the split variables $sm$ (slack minus) and $sp$ (slack plus) to rewrite the check function as MIP as follows:\n",
    "\\begin{align}\n",
    "&y_i - \\phi_i + sm_i - sp_i = 0\\\\\n",
    "&y_i - \\phi'_i + sm'_i - sp'_i = 0\\\\\n",
    "&sm_i \\ge 0, sp_i \\ge 0, sm'_i \\ge 0, sp'_i \\ge 0\\\\\n",
    "\\end{align}\n",
    "\n",
    "Thus, we write the check function as follows:\n",
    "\\begin{align}\n",
    "&\\rho_\\pi(y_i - \\phi_i) = \\pi \\cdot sp_i + (1-\\pi) \\cdot sm_i\\\\\n",
    "&\\rho_\\pi(y_i - \\phi'_i) = \\pi \\cdot sp'_i + (1-\\pi) \\cdot sm'_i\\\\\n",
    "\\end{align}\n"
   ],
   "metadata": {
    "collapsed": false
   }
  },
  {
   "cell_type": "markdown",
   "source": [
    "For the indicator function, we will write it as follows:\n",
    "\n",
    "$$\n",
    "1\\left\\{y_i<c\\right\\} = p_i\\\\\n",
    "y_i \\le c + A(1-p_i)\\\\\n",
    "p_i \\in \\left\\{ 0, 1 \\right\\}\n",
    "$$\n",
    "where $A$ is large enough such that $A \\ge y_i - c$ for all i."
   ],
   "metadata": {
    "collapsed": false
   }
  },
  {
   "cell_type": "markdown",
   "source": [
    "We write the objective function as\n",
    "\\begin{align*}\n",
    "R_n(\\beta ; \\hat{S}) \\equiv & \\frac{1}{n} \\sum_{i=1}^n\\left\\{\\left(1-d_i\\right) \\rho_\\pi\\left(y_i-\\phi_i\\right)\\right.\\\\\n",
    "&\\left.+d_i\\left[\\hat{S}\\left(y_i\\right)\\right]^{-1} \\int 1\\left\\{y_i<c\\right\\} \\rho_\\pi\\left(y_i-\\phi'_i\\right) \\mathrm{d} \\hat{G}(c)\\right\\}\\\\\n",
    "=& \\frac{1}{n} \\sum_{i=1}^n\\left\\{\\left(1-d_i\\right) \\left(\\pi \\cdot sp_i + (1-\\pi) \\cdot sm_i\\right) \\right.\\\\\n",
    "&\\left.+d_i\\left[\\hat{S}\\left(y_i\\right)\\right]^{-1} \\int p_i \\left( \\pi \\cdot sp'_i + (1-\\pi) \\cdot sm'_i \\right) \\mathrm{d} \\hat{G}(c)\\right\\}\\\\\n",
    "\\end{align*}\n",
    "\n",
    "such that\n",
    "\n",
    "\\begin{align}\n",
    "&\\phi_i \\le x'_i\\beta\\\\\n",
    "&\\phi_i \\le y_i\\\\\n",
    "&\\phi_i + \\gamma_i \\cdot w_i \\ge x'_i\\beta \\\\\n",
    "&\\phi_i + (1-\\gamma_i) \\cdot w_i\\ge y_i\\\\\n",
    "&\\phi'_i \\le x'_i\\beta\\\\\n",
    "&\\phi'_i \\le c\\\\\n",
    "&\\phi'_i + \\delta_i \\cdot w_i\\ge x'_i\\beta \\\\\n",
    "&\\phi'_i + (1-\\delta_i) \\cdot w_i\\ge c \\\\\n",
    "&\\gamma_i, \\delta_i \\in \\left\\{ 0, 1 \\right\\}\\\\\n",
    "&i = 1, ..., n.\n",
    "\\end{align}\n"
   ],
   "metadata": {
    "collapsed": false
   }
  },
  {
   "cell_type": "markdown",
   "source": [
    "Now, we have to deal with the integral. We will start to write MIP all over again. Estimate the integral with finite sums as follows:\n",
    "\\begin{align*}\n",
    "R_n(\\beta ; \\hat{S})\n",
    "=& \\frac{1}{n} \\sum_{i=1}^n\\left\\{\\left(1-d_i\\right) \\rho_\\pi\\left(y_i-\\phi_i\\right)\\right.\\\\\n",
    "&\\left.+d_i\\left[\\hat{S}\\left(y_i\\right)\\right]^{-1} \\int 1\\left\\{y_i<c\\right\\} \\rho_\\pi\\left(y_i-\\min\\left\\{ x'_i\\beta, c \\right\\}\\right) \\mathrm{d} \\hat{G}(c)\\right\\}\\\\\n",
    "=& \\frac{1}{n} \\sum_{i=1}^n\\left\\{\\left(1-d_i\\right) \\rho_\\pi\\left(y_i-\\phi_i\\right)\\right.\\\\\n",
    "&\\left.+d_i\\left[\\hat{S}\\left(y_i\\right)\\right]^{-1} \\int 1\\left\\{y_i<c\\right\\} \\rho_\\pi\\left(y_i-\\min\\left\\{ x'_i\\beta, c \\right\\}\\right) \\hat{g}(c) \\mathrm{d} c \\right\\}\\\\\n",
    "=& \\frac{1}{n} \\sum_{i=1}^n\\left\\{\\left(1-d_i\\right) \\rho_\\pi\\left(y_i-\\phi_i\\right)\\right.\\\\\n",
    "&\\left.+d_i\\left[\\hat{S}\\left(y_i\\right)\\right]^{-1} \\frac{1}{k} \\sum_{j=1}^k 1\\left\\{y_i<a+(j-1)\\left(\\frac{b-a}{k}\\right)\\right\\} \\rho_\\pi\\left(y_i-\\min\\left\\{ x'_i\\beta, a+(j-1)\\left(\\frac{b-a}{k}\\right) \\right\\}\\right) \\hat{g}\\left(a+(j-1)\\left(\\frac{b-a}{k}\\right)\\right) \\right\\}\\\\\n",
    "\\end{align*}\n",
    "\n",
    "Here, we assume that the domain of the censoring points $c$ is $[a, b]$."
   ],
   "metadata": {
    "collapsed": false
   }
  },
  {
   "cell_type": "markdown",
   "source": [
    "Define $\\phi'_{ij} = \\min\\left\\{ x'_i\\beta, a+(j-1)\\left(\\frac{b-a}{k}\\right) \\right\\}$ for all $i=1,2,...,n$ and $j=1,2,...,k$. The variable $k$ is the number of subintervals.\n",
    "\n",
    "We rewrite them as MIP:\n",
    "\\begin{align}\n",
    "&\\phi'_{ij} \\le x'_i\\beta\\\\\n",
    "&\\phi'_{ij} \\le a+(j-1)\\left(\\frac{b-a}{k}\\right)\\\\\n",
    "&\\phi'_{ij} + \\delta_{ij} \\cdot w_i\\ge x'_i\\beta \\\\\n",
    "&\\phi'_{ij} + (1-\\delta_{ij}) \\cdot w_i\\ge a+(j-1)\\left(\\frac{b-a}{k}\\right) \\\\\n",
    "&\\delta_{ij} \\in \\left\\{ 0, 1 \\right\\}\\\\\n",
    "&i = 1, ..., n\\\\\n",
    "&j = 1, ..., k.\n",
    "\\end{align}\n"
   ],
   "metadata": {
    "collapsed": false
   }
  },
  {
   "cell_type": "markdown",
   "source": [
    "The check function $\\rho_\\tau(z) = (\\tau-1(z \\le 0))z = 1(z > 0)\\cdot \\tau\\left| z \\right| + 1(z \\le 0) \\cdot (1-\\tau) \\left| z \\right|$.\n",
    "\n",
    "We will use the split variables $sm$ (slack minus) and $sp$ (slack plus) to rewrite the check function as MIP as follows:\n",
    "\\begin{align}\n",
    "&y_i - \\phi_i + sm_i - sp_i = 0\\\\\n",
    "&y_i - \\phi'_{ij} + sm'_{ij} - sp'_{ij} = 0\\\\\n",
    "&sm_i \\ge 0, sp_i \\ge 0, sm'_{ij} \\ge 0, sp'_{ij} \\ge 0\\\\\n",
    "\\end{align}\n",
    "\n",
    "Thus, we write the check function as follows:\n",
    "\\begin{align}\n",
    "&\\rho_\\pi(y_i - \\phi_i) = \\pi \\cdot sp_i + (1-\\pi) \\cdot sm_i\\\\\n",
    "&\\rho_\\pi(y_i - \\phi'_{ij}) = \\pi \\cdot sp'_{ij} + (1-\\pi) \\cdot sm'_{ij}\\\\\n",
    "\\end{align}\n"
   ],
   "metadata": {
    "collapsed": false
   }
  },
  {
   "cell_type": "markdown",
   "source": [
    "Substitute in the objective function, we get\n",
    "\\begin{align*}\n",
    "=& \\frac{1}{n} \\sum_{i=1}^n\\left\\{\\left(1-d_i\\right) \\rho_\\pi\\left(y_i-\\phi_i\\right)\\right.\\\\\n",
    "&\\left.+d_i\\left[\\hat{S}\\left(y_i\\right)\\right]^{-1} \\frac{1}{k} \\sum_{j=1}^k 1\\left\\{y_i<a+(j-1)\\left(\\frac{b-a}{k}\\right)\\right\\} \\rho_\\pi\\left(y_i-\\phi_{ij}\\right) \\hat{g}\\left(a+(j-1)\\left(\\frac{b-a}{k}\\right)\\right) \\right\\}\\\\\n",
    "=& \\frac{1}{n} \\sum_{i=1}^n\\left\\{\\left(1-d_i\\right) \\left(\\pi \\cdot sp_i + (1-\\pi) \\cdot sm_i\\right)\\right.\\\\\n",
    "&\\left.+d_i\\left[\\hat{S}\\left(y_i\\right)\\right]^{-1} \\frac{1}{k} \\sum_{j=1}^k 1\\left\\{y_i<a+(j-1)\\left(\\frac{b-a}{k}\\right)\\right\\} \\left(\\pi \\cdot sp'_{ij} + (1-\\pi) \\cdot sm'_{ij}\\right) \\hat{g}\\left(a+(j-1)\\left(\\frac{b-a}{k}\\right)\\right) \\right\\} \\\\\n",
    "\\end{align*}"
   ],
   "metadata": {
    "collapsed": false
   }
  },
  {
   "cell_type": "markdown",
   "source": [
    "For the indicator function, we will write it as follows:\n",
    "\n",
    "$$\n",
    "1\\left\\{y_i<a+(j-1)\\left(\\frac{b-a}{k}\\right)\\right\\} = p_{ij}\\\\\n",
    "y_i \\le a+(j-1)\\left(\\frac{b-a}{k}\\right) + A(1-p_{ij})\\\\\n",
    "p_{ij} \\in \\left\\{ 0, 1 \\right\\}\n",
    "$$\n",
    "where $A$ is large enough such that $A \\ge y_i - a+(j-1)\\left(\\frac{b-a}{k}\\right)$ for all $i, j$."
   ],
   "metadata": {
    "collapsed": false
   }
  },
  {
   "cell_type": "markdown",
   "source": [
    "Finally, the MIP problem is as follows:\n",
    "\\begin{align*}\n",
    "\\min \\frac{1}{n} \\sum_{i=1}^n\\left\\{\\left(1-d_i\\right) \\left(\\pi \\cdot sp_i + (1-\\pi) \\cdot sm_i\\right)+d_i\\left[\\hat{S}\\left(y_i\\right)\\right]^{-1} \\frac{1}{k} \\sum_{j=1}^k p_{ij} \\left(\\pi \\cdot sp'_{ij} + (1-\\pi) \\cdot sm'_{ij}\\right) \\hat{g}\\left(a+(j-1)\\left(\\frac{b-a}{k}\\right)\\right) \\right\\}\n",
    "\\end{align*}\n",
    "\n",
    "such that\n",
    "\n",
    "\\begin{align}\n",
    "&\\phi_i \\le x'_i\\beta\\\\\n",
    "&\\phi_i \\le y_i\\\\\n",
    "&\\phi_i + \\gamma_i \\cdot w_i \\ge x'_i\\beta \\\\\n",
    "&\\phi_i + (1-\\gamma_i) \\cdot w_i\\ge y_i\\\\\n",
    "&\\phi'_{ij} \\le x'_i\\beta\\\\\n",
    "&\\phi'_{ij} \\le a+(j-1)\\left(\\frac{b-a}{k}\\right)\\\\\n",
    "&\\phi'_{ij} + \\delta_{ij} \\cdot w_i\\ge x'_i\\beta \\\\\n",
    "&\\phi'_{ij} + (1-\\delta_{ij}) \\cdot w_i\\ge a+(j-1)\\left(\\frac{b-a}{k}\\right) \\\\\n",
    "&\\delta_{ij} \\in \\left\\{ 0, 1 \\right\\}\\\\\n",
    "&y_i \\le a+(j-1)\\left(\\frac{b-a}{k}\\right) + A(1-p_{ij})\\\\\n",
    "&\\gamma_i, \\delta_{ij}, p_{ij} \\in \\left\\{ 0, 1 \\right\\}\\\\\n",
    "&i = 1, ..., n\\\\\n",
    "&j = 1, ..., k\\\\\n",
    "\\end{align}"
   ],
   "metadata": {
    "collapsed": false
   }
  },
  {
   "cell_type": "markdown",
   "source": [
    "The distribution $G(t)$ is estimated using the Kaplan-Meier product limit estimator (Kaplan and Meier, 1958). This estimator $\\hat{G}(t)$ uses only the pairs ${(y_i, d_i)}$. From this estimator, we get $\\hat{S}(t) = 1-\\hat{G}(t)$.\n",
    "\n",
    "** We estimate $G(c)$ separately and then do MIP after?"
   ],
   "metadata": {
    "collapsed": false
   }
  },
  {
   "cell_type": "markdown",
   "source": [
    "Max's Note:\n",
    "- Can we rewrite the binary variable $d_i$? Note that we observe $d_i = 1 \\left\\{ y^{*}_i < c_i \\right\\} = 1 \\left\\{ x'_i\\beta_0 + \\epsilon_i < c_i \\right\\}$.\n",
    "- Is it ok to use the same $w_i$ for both min function?\n",
    "- Cookbook: https://docs.mosek.com/modeling-cookbook/mio.html\n",
    "- check the indicator function"
   ],
   "metadata": {
    "collapsed": false
   }
  },
  {
   "cell_type": "code",
   "execution_count": null,
   "outputs": [],
   "source": [],
   "metadata": {
    "collapsed": false
   }
  }
 ],
 "metadata": {
  "kernelspec": {
   "display_name": "Python 3",
   "language": "python",
   "name": "python3"
  },
  "language_info": {
   "codemirror_mode": {
    "name": "ipython",
    "version": 2
   },
   "file_extension": ".py",
   "mimetype": "text/x-python",
   "name": "python",
   "nbconvert_exporter": "python",
   "pygments_lexer": "ipython2",
   "version": "2.7.6"
  }
 },
 "nbformat": 4,
 "nbformat_minor": 0
}
