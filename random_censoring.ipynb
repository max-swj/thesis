{
 "cells": [
  {
   "cell_type": "markdown",
   "source": [
    "# Exact Computation of Quantile Regression under Random Censoring\n"
   ],
   "metadata": {
    "collapsed": false
   }
  },
  {
   "cell_type": "markdown",
   "source": [
    "Honoré, Khanb, and Powell (2002) defined the estimator for quantile regression under random censoring in (2.15) as\n",
    "\n",
    "$$\n",
    "\\hat{\\beta} \\equiv \\arg \\min _{\\beta \\in \\mathscr{B}} R_n(\\beta ; \\hat{S}),\n",
    "$$\n",
    "where\n",
    "\\begin{align*}\n",
    "R_n(\\beta ; \\hat{S}) \\equiv & \\frac{1}{n} \\sum_{i=1}^n \\left\\{ \\left(1-d_i\\right) \\rho_\\pi\\left(y_i-\\min \\left\\{x_i^{\\prime} \\beta, y_i\\right\\}\\right)\\right.\\\\\n",
    "&\\left.+d_i\\left[\\hat{S}\\left(y_i\\right)\\right]^{-1} \\int 1\\left\\{y_i<c\\right\\} \\rho_\\pi\\left(y_i-\\min \\left\\{x_i^{\\prime} \\beta, c\\right\\}\\right) \\mathrm{d} \\hat{G}(c)\\right\\}\n",
    "\\end{align*}\n",
    "\n",
    "Reformulate the estimator to the MIP problem as:\n",
    "\\begin{align*}\n",
    "\\min& \\frac{1}{n} \\sum_{i=1}^n\\left\\{\\left(1-d_i\\right) \\left(\\pi \\cdot sp_i + (1-\\pi) \\cdot sm_i\\right)\\right.\\\\\n",
    "&\\left.+d_i\\left[\\hat{S}\\left(y_i\\right)\\right]^{-1} \\frac{1}{k} \\sum_{j=1}^k 1\\left\\{y_i<a+(j-1)\\left(\\frac{b-a}{k}\\right)\\right\\} \\left(\\pi \\cdot sp'_{ij} + (1-\\pi) \\cdot sm'_{ij}\\right)\\right.\\\\\n",
    "&\\left.\\hat{g}\\left(a+(j-1)\\left(\\frac{b-a}{k}\\right)\\right) \\right\\}\n",
    "\\end{align*}\n",
    "\n",
    "such that\n",
    "\\begin{align}\n",
    "&y_i - \\phi_i + sm_i - sp_i = 0,\n",
    "&i = 1, \\dots, n\\\\\n",
    "&y_i - \\phi'_{ij} + sm'_{ij} - sp'_{ij} = 0,\n",
    "&i = 1, \\dots, n, \\quad j = 1, \\dots, k\\\\\n",
    "&\\phi_i \\le x'_i\\beta,\n",
    "&i = 1, \\dots, n\\\\\n",
    "&\\phi_i \\le y_i,\n",
    "&i = 1, \\dots, n\\\\\n",
    "&\\phi_i + \\gamma_i \\cdot M_i \\ge x'_i\\beta,\n",
    "&i = 1, \\dots, n\\\\\n",
    "&\\phi_i + (1-\\gamma_i) \\cdot M_i\\ge y_i,\n",
    "&i = 1, \\dots, n\\\\\n",
    "&\\phi'_{ij} \\le x'_i\\beta,\n",
    "&i = 1, \\dots, n\\\\\n",
    "&\\phi'_{ij} \\le a+(j-1)\\left(\\frac{b-a}{k}\\right),\n",
    "&i = 1, \\dots, n, \\quad j = 1, \\dots, k\\\\\n",
    "&\\phi'_{ij} + \\delta_{ij} \\cdot N_{ij}\\ge x'_i\\beta,\n",
    "&i = 1, \\dots, n, \\quad j = 1, \\dots, k\\\\\n",
    "&\\phi'_{ij} + (1-\\delta_{ij}) \\cdot N_{ij}\\ge a+(j-1)\\left(\\frac{b-a}{k}\\right),\n",
    "&i = 1, \\dots, n, \\quad j = 1, \\dots, k\\\\\n",
    "&sm_i \\ge 0,\\quad sp_i \\ge 0,\\quad sm'_{ij} \\ge 0,\\quad sp'_{ij} \\ge 0,\n",
    "&i = 1, \\dots, n, \\quad j = 1, \\dots, k\\\\\n",
    "&\\gamma_i, \\delta_{ij} \\in \\left\\{ 0, 1 \\right\\},\n",
    "&i = 1, \\dots, n, \\quad j = 1, \\dots, k\n",
    "\\end{align}\n",
    "\n"
   ],
   "metadata": {
    "collapsed": false
   }
  },
  {
   "cell_type": "markdown",
   "source": [
    "# Monte Carlo Simulation\n",
    "\n",
    "Similar to Honore, Khan, and Powell (2002), the model used for the Monte Carlo simulation is\n",
    "\\begin{equation*}\n",
    "    y_i = \\min\\left\\{\\beta_0 + x_i\\beta_1 + \\epsilon_i, c_i \\right\\},\n",
    "\\end{equation*}\n",
    "\n",
    "where $x_i$ has a standard normal distribution, the censoring variable $c_i$ is uniformly distributed on the interval $[-1.5, 1.5]$, and the true values $\\beta_0$ and $\\beta_1$ are -1 and 1, respectively.\n",
    "\n",
    "I impose four homoskedastic distributions for the error terms $\\epsilon_i$ using the standard normal distribution and Student’s-t distributions with 1, 2, and 3 degrees of freedom. I also impose two heteroskedastic distribution for the error terms using $\\epsilon_i = \\sigma(x_i)\\eta_i$, where $\\eta_i$ has a standard normal distribution and $\\sigma(x_i)\\eta_i$ takes a value of $\\exp(-x_i)$ and $\\exp(x_i)$.\n"
   ],
   "metadata": {
    "collapsed": false
   }
  },
  {
   "cell_type": "code",
   "execution_count": 65,
   "outputs": [],
   "source": [
    "import numpy as np"
   ],
   "metadata": {
    "collapsed": false
   }
  },
  {
   "cell_type": "code",
   "execution_count": 66,
   "outputs": [],
   "source": [
    "np.random.seed(123)\n",
    "n = 100\n",
    "alpha = -1\n",
    "beta = 1\n",
    "# x_i ~ Normal(0,1), c_i ~ Uniform(-1.5, 1.5)\n",
    "x = np.random.normal(loc=0.0, scale=1.0, size=n)\n",
    "c = np.random.uniform(low=-1.5, high=1.5, size=n)\n",
    "# Four homoskedastic distributions for error terms. Denote them as e_1, e_2, e_3, e_4, respectively.\n",
    "# e_k_i ~ N(0,1) and t-distribution with df = 1, 2, 3 for k = 1, 2, 3, 4\n",
    "e_1 = np.random.normal(loc=0.0, scale=1.0, size=n)\n",
    "e_2 = np.random.standard_t(df=1, size=n)\n",
    "e_3 = np.random.standard_t(df=2, size=n)\n",
    "e_4 = np.random.standard_t(df=3, size=n)\n",
    "# Two heteroskedastic distributions for error terms. Denote them as e_5, e_6, respectively.\n",
    "# e_5_i ~ exp(-x_1)*eta_1_i where eta_1_i ~ N(0,1), e_6_i ~ exp(x_1)*eta_2_i where eta_2_i ~ N(0,1)\n",
    "eta_1 = np.random.normal(loc=0.0, scale=1.0, size=n)\n",
    "eta_2 = np.random.normal(loc=0.0, scale=1.0, size=n)\n",
    "e_5 = np.array([np.exp(-1*x_i)*eta_i for x_i, eta_i in zip(x, eta_1)])\n",
    "e_6 = np.array([np.exp(x_i)*eta_i for x_i, eta_i in zip(x, eta_1)])"
   ],
   "metadata": {
    "collapsed": false
   }
  },
  {
   "cell_type": "code",
   "execution_count": null,
   "outputs": [],
   "source": [],
   "metadata": {
    "collapsed": false
   }
  }
 ],
 "metadata": {
  "kernelspec": {
   "display_name": "Python 3",
   "language": "python",
   "name": "python3"
  },
  "language_info": {
   "codemirror_mode": {
    "name": "ipython",
    "version": 2
   },
   "file_extension": ".py",
   "mimetype": "text/x-python",
   "name": "python",
   "nbconvert_exporter": "python",
   "pygments_lexer": "ipython2",
   "version": "2.7.6"
  }
 },
 "nbformat": 4,
 "nbformat_minor": 0
}
