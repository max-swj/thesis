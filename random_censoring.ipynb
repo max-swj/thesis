{
 "cells": [
  {
   "cell_type": "markdown",
   "source": [
    "# Exact Computation of Quantile Regression under Random Censoring\n"
   ],
   "metadata": {
    "collapsed": false
   }
  },
  {
   "cell_type": "markdown",
   "source": [
    "Honoré, Khanb, and Powell (2002) defined the estimator for quantile regression under random censoring in (2.15) as\n",
    "\n",
    "$$\n",
    "\\hat{\\beta} \\equiv \\arg \\min _{\\beta \\in \\mathscr{B}} R_n(\\beta ; \\hat{S}),\n",
    "$$\n",
    "where\n",
    "\\begin{align*}\n",
    "R_n(\\beta ; \\hat{S}) \\equiv & \\frac{1}{n} \\sum_{i=1}^n \\left\\{ \\left(1-d_i\\right) \\rho_\\pi\\left(y_i-\\min \\left\\{x_i^{\\prime} \\beta, y_i\\right\\}\\right)\\right.\\\\\n",
    "&\\left.+d_i\\left[\\hat{S}\\left(y_i\\right)\\right]^{-1} \\int 1\\left\\{y_i<c\\right\\} \\rho_\\pi\\left(y_i-\\min \\left\\{x_i^{\\prime} \\beta, c\\right\\}\\right) \\mathrm{d} \\hat{G}(c)\\right\\}\n",
    "\\end{align*}\n",
    "\n",
    "Reformulate the estimator to the MIP problem as:\n",
    "\\begin{align*}\n",
    "\\min& \\frac{1}{n} \\sum_{i=1}^n\\left\\{\\left(1-d_i\\right) \\left(\\pi \\cdot sp_i + (1-\\pi) \\cdot sm_i\\right)\\right.\\\\\n",
    "&\\left.+d_i\\left[\\hat{S}\\left(y_i\\right)\\right]^{-1} \\frac{1}{k} \\sum_{j=1}^k 1\\left\\{y_i<a+(j-1)\\left(\\frac{b-a}{k}\\right)\\right\\} \\left(\\pi \\cdot sp'_{ij} + (1-\\pi) \\cdot sm'_{ij}\\right)\\right.\\\\\n",
    "&\\left.\\hat{g}\\left(a+(j-1)\\left(\\frac{b-a}{k}\\right)\\right) \\right\\}\n",
    "\\end{align*}\n",
    "\n",
    "such that\n",
    "\\begin{align}\n",
    "&y_i - \\phi_i + sm_i - sp_i = 0,\n",
    "&i = 1, \\dots, n\\\\\n",
    "&y_i - \\phi'_{ij} + sm'_{ij} - sp'_{ij} = 0,\n",
    "&i = 1, \\dots, n, \\quad j = 1, \\dots, k\\\\\n",
    "&\\phi_i \\le x'_i\\beta,\n",
    "&i = 1, \\dots, n\\\\\n",
    "&\\phi_i \\le y_i,\n",
    "&i = 1, \\dots, n\\\\\n",
    "&\\phi_i + \\gamma_i \\cdot M_i \\ge x'_i\\beta,\n",
    "&i = 1, \\dots, n\\\\\n",
    "&\\phi_i + (1-\\gamma_i) \\cdot M_i\\ge y_i,\n",
    "&i = 1, \\dots, n\\\\\n",
    "&\\phi'_{ij} \\le x'_i\\beta,\n",
    "&i = 1, \\dots, n, \\quad j = 1, \\dots, k\\\\\n",
    "&\\phi'_{ij} \\le a+(j-1)\\left(\\frac{b-a}{k}\\right),\n",
    "&i = 1, \\dots, n, \\quad j = 1, \\dots, k\\\\\n",
    "&\\phi'_{ij} + \\delta_{ij} \\cdot N_{ij}\\ge x'_i\\beta,\n",
    "&i = 1, \\dots, n, \\quad j = 1, \\dots, k\\\\\n",
    "&\\phi'_{ij} + (1-\\delta_{ij}) \\cdot N_{ij}\\ge a+(j-1)\\left(\\frac{b-a}{k}\\right),\n",
    "&i = 1, \\dots, n, \\quad j = 1, \\dots, k\\\\\n",
    "&sm_i \\ge 0,\\quad sp_i \\ge 0,\\quad sm'_{ij} \\ge 0,\\quad sp'_{ij} \\ge 0,\n",
    "&i = 1, \\dots, n, \\quad j = 1, \\dots, k\\\\\n",
    "&\\gamma_i, \\delta_{ij} \\in \\left\\{ 0, 1 \\right\\},\n",
    "&i = 1, \\dots, n, \\quad j = 1, \\dots, k\n",
    "\\end{align}\n",
    "\n"
   ],
   "metadata": {
    "collapsed": false
   }
  },
  {
   "cell_type": "code",
   "execution_count": 40,
   "outputs": [],
   "source": [
    "import gurobipy as gp\n",
    "from gurobipy import GRB\n",
    "import itertools"
   ],
   "metadata": {
    "collapsed": false
   }
  },
  {
   "cell_type": "code",
   "execution_count": 31,
   "outputs": [],
   "source": [
    "model = gp.Model(\"MIP\")\n",
    "x = model.addVars(n, name=\"x\")\n",
    "y = model.addVars(n, name=\"y\")\n",
    "beta = model.addVars(2, lb=float('-inf'), name=\"beta\")\n",
    "phi = model.addVars(n, lb=float('-inf'), name=\"phi\")\n",
    "phi_prime = model.addVars(n, k, lb=float('-inf'), name=\"phi_prime\")\n",
    "M = model.addVars(n, name=\"M\")\n",
    "N = model.addVars(n, k, name=\"N\")\n",
    "sm = model.addVars(n, name='sm')\n",
    "sp = model.addVars(n, name='sp')\n",
    "sm_prime = model.addVars(n, k, name='sm_prime')\n",
    "sp_prime = model.addVars(n, k, name='sp_prime')\n",
    "gamma = model.addVars(n, vtype=GRB.BINARY, name='gamma')\n",
    "delta = model.addVars(n, k, vtype=GRB.BINARY, name='delta')\n",
    "for i in range(n):\n",
    "    x[i].lb, x[i].ub, y[i].lb, y[i].ub = X[i], X[i], Y[i], Y[i]"
   ],
   "metadata": {
    "collapsed": false
   }
  },
  {
   "cell_type": "markdown",
   "source": [
    "# Monte Carlo Simulation\n",
    "\n",
    "Similar to Honore, Khan, and Powell (2002), the model used for the Monte Carlo simulation is\n",
    "\\begin{equation*}\n",
    "    y_i = \\min\\left\\{\\beta_0 + x_i\\beta_1 + \\epsilon_i, c_i \\right\\},\n",
    "\\end{equation*}\n",
    "\n",
    "where $x_i$ has a standard normal distribution, the censoring variable $c_i$ is uniformly distributed on the interval $[-1.5, 1.5]$, and the true values $\\beta_0$ and $\\beta_1$ are -1 and 1, respectively.\n",
    "\n",
    "I impose four homoskedastic distributions for the error terms $\\epsilon_i$ using the standard normal distribution and Student’s-t distributions with 1, 2, and 3 degrees of freedom. I also impose two heteroskedastic distribution for the error terms using $\\epsilon_i = \\sigma(x_i)\\eta_i$, where $\\eta_i$ has a standard normal distribution and $\\sigma(x_i)\\eta_i$ takes a value of $\\exp(-x_i)$ and $\\exp(x_i)$.\n"
   ],
   "metadata": {
    "collapsed": false
   }
  },
  {
   "cell_type": "code",
   "execution_count": 44,
   "outputs": [],
   "source": [
    "import numpy as np"
   ],
   "metadata": {
    "collapsed": false
   }
  },
  {
   "cell_type": "code",
   "execution_count": 45,
   "outputs": [],
   "source": [
    "np.random.seed(123)\n",
    "n = 100\n",
    "beta_0 = -1\n",
    "beta_1 = 1\n",
    "# x_i ~ Normal(0,1), c_i ~ Uniform(-1.5, 1.5)\n",
    "X = np.random.normal(loc=0.0, scale=1.0, size=n)\n",
    "c = np.random.uniform(low=-1.5, high=1.5, size=n)\n",
    "# calculate generate error terms from six distributions\n",
    "# Four homoskedastic distributions for error terms. Denote them as e_1, e_2, e_3, e_4, respectively.\n",
    "# e_k_i ~ N(0,1) and t-distribution with df = 1, 2, 3 for k = 1, 2, 3, 4\n",
    "e_1 = np.random.normal(loc=0.0, scale=1.0, size=n)\n",
    "e_2 = np.random.standard_t(df=1, size=n)\n",
    "e_3 = np.random.standard_t(df=2, size=n)\n",
    "e_4 = np.random.standard_t(df=3, size=n)\n",
    "# Two heteroskedastic distributions for error terms. Denote them as e_5, e_6, respectively.\n",
    "# e_5_i ~ exp(-x_1)*eta_1_i where eta_1_i ~ N(0,1), e_6_i ~ exp(x_1)*eta_2_i where eta_2_i ~ N(0,1)\n",
    "eta_1 = np.random.normal(loc=0.0, scale=1.0, size=n)\n",
    "eta_2 = np.random.normal(loc=0.0, scale=1.0, size=n)\n",
    "e_5 = np.array([np.exp(-1*x_i)*eta_i for x_i, eta_i in zip(X, eta_1)])\n",
    "e_6 = np.array([np.exp(x_i)*eta_i for x_i, eta_i in zip(X, eta_1)])"
   ],
   "metadata": {
    "collapsed": false
   }
  },
  {
   "cell_type": "code",
   "execution_count": 46,
   "outputs": [],
   "source": [
    "# choose error terms from e_1, ..., e_6\n",
    "e = e_1\n",
    "# calculate y_i\n",
    "Y = np.array([min(beta_0+x_i*beta_1+e_i, c_i) for x_i, e_i, c_i in zip(X, e, c)])"
   ],
   "metadata": {
    "collapsed": false
   }
  },
  {
   "cell_type": "code",
   "execution_count": 47,
   "outputs": [],
   "source": [
    "# set the number of subinterval k\n",
    "k = 10\n",
    "# set the min and max of the censoring points\n",
    "# TODO: Do we need this?\n",
    "a = -1.5\n",
    "b = 1.5"
   ],
   "metadata": {
    "collapsed": false
   }
  },
  {
   "cell_type": "code",
   "execution_count": 48,
   "outputs": [],
   "source": [
    "model.addConstrs((y[i]-phi[i]+sm[i]-sp[i] == 0 for i in range(n)))\n",
    "model.addConstrs((y[i]-phi_prime[(i,j)]+sm_prime[(i,j)]-sp_prime[(i,j)] == 0 for i, j in itertools.product(range(n), range(k))))\n",
    "model.addConstrs((phi[i] <= beta[0]+beta[1]*x[i] for i in range(n)))\n",
    "model.addConstrs((phi[i] <= beta[0]+beta[1]*x[i] for i in range(n)))\n",
    "model.addConstrs((phi[i] <= y[i] for i in range(n)))\n",
    "model.addConstrs((phi[i] + gamma[i]*M[i] >= beta[0]+beta[1]*x[i] for i in range(n)))\n",
    "model.addConstrs((phi[i] + (1-gamma[i])*M[i] >= y[i] for i in range(n)))\n",
    "model.addConstrs((phi_prime[(i,j)]  <= beta[0]+beta[1]*x[i] for i, j in itertools.product(range(n), range(k))))\n",
    "model.addConstrs((phi_prime[(i,j)]  <= a + (j-1)*(b-a)/k for i, j in itertools.product(range(n), range(k))))\n",
    "model.addConstrs((phi_prime[(i,j)] + delta[(i,j)]*N[(i,j)] >= beta[0]+beta[1]*x[i] for i, j in itertools.product(range(n), range(k))))\n",
    "model.addConstrs((phi_prime[(i,j)] + (1-delta[(i,j)])*N[(i,j)] >= a + (j-1)*(b-a)/k for i, j in itertools.product(range(n), range(k))))\n",
    "model.update()"
   ],
   "metadata": {
    "collapsed": false
   }
  },
  {
   "cell_type": "code",
   "execution_count": null,
   "outputs": [],
   "source": [],
   "metadata": {
    "collapsed": false
   }
  }
 ],
 "metadata": {
  "kernelspec": {
   "display_name": "Python 3",
   "language": "python",
   "name": "python3"
  },
  "language_info": {
   "codemirror_mode": {
    "name": "ipython",
    "version": 2
   },
   "file_extension": ".py",
   "mimetype": "text/x-python",
   "name": "python",
   "nbconvert_exporter": "python",
   "pygments_lexer": "ipython2",
   "version": "2.7.6"
  }
 },
 "nbformat": 4,
 "nbformat_minor": 0
}
